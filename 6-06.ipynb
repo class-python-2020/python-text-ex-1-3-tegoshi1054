{
 "metadata": {
  "language_info": {
   "codemirror_mode": {
    "name": "ipython",
    "version": 3
   },
   "file_extension": ".py",
   "mimetype": "text/x-python",
   "name": "python",
   "nbconvert_exporter": "python",
   "pygments_lexer": "ipython3",
   "version": "3.8.2-final"
  },
  "orig_nbformat": 2,
  "kernelspec": {
   "name": "python38232bit63e2fce86a434c428a352e1a00e6265a",
   "display_name": "Python 3.8.2 32-bit"
  }
 },
 "nbformat": 4,
 "nbformat_minor": 2,
 "cells": [
  {
   "cell_type": "code",
   "execution_count": 1,
   "metadata": {},
   "outputs": [
    {
     "output_type": "execute_result",
     "data": {
      "text/plain": "3.141592653589793"
     },
     "metadata": {},
     "execution_count": 1
    }
   ],
   "source": [
    "import math\n",
    "math.pi"
   ]
  },
  {
   "cell_type": "code",
   "execution_count": 2,
   "metadata": {
    "tags": []
   },
   "outputs": [
    {
     "output_type": "stream",
     "name": "stdout",
     "text": "['__builtins__', '__cached__', '__doc__', '__file__', '__loader__', '__name__', '__package__', '__spec__', 'func']\n"
    }
   ],
   "source": [
    "import my_module\n",
    "my_module_attri = dir(my_module)\n",
    "print(my_module_attri)"
   ]
  },
  {
   "cell_type": "code",
   "execution_count": 9,
   "metadata": {},
   "outputs": [
    {
     "output_type": "error",
     "ename": "SyntaxError",
     "evalue": "no binding for nonlocal 's2' found (<ipython-input-9-ca0f63d19703>, line 9)",
     "traceback": [
      "\u001b[1;36m  File \u001b[1;32m\"<ipython-input-9-ca0f63d19703>\"\u001b[1;36m, line \u001b[1;32m9\u001b[0m\n\u001b[1;33m    nonlocal s2\u001b[0m\n\u001b[1;37m    ^\u001b[0m\n\u001b[1;31mSyntaxError\u001b[0m\u001b[1;31m:\u001b[0m no binding for nonlocal 's2' found\n"
     ]
    }
   ],
   "source": [
    "# グローバルスコープ\n",
    "def scope_test():\n",
    "    # ネステッドスコープ(scope_testのグローバルスコープ)\n",
    "    def do_local():\n",
    "        # ローカルスコープ\n",
    "        s1 = \"local\"\n",
    "    def do_nonlocal():\n",
    "        # ローカルからネステッドスコープを移す\n",
    "        nonlocal s2\n",
    "        # ネステッドスコープ\n",
    "        s2 = \"nolocal\"\n",
    "    def do_global():\n",
    "        # ローカルからグローバルへスコープを移す\n",
    "        global s3\n",
    "        # グローバルスコープ\n",
    "        s3 = \"global\"\n",
    "        # ネステッドスコープ(scope_testのローカルスコープ)\n",
    "        s0 = s1 = s2 = s3 = \"test\"\n",
    "        do_local()\n",
    "        print(\"After local :\", s0, s1, s3)\n",
    "        do_nonlocal()\n",
    "        print(\"After nonlocal :\", s0, s1, s2, s3)\n",
    "        do_local()\n",
    "        print(\"After global :\", s0, s1, s2, s3)\n",
    "\n",
    "# グルールスコープ\n",
    "s0 = s1 = s3 =  \"initial\"\n",
    "print(\"In th global :\", s0, s1, s2, s3)\n",
    "scope_test()\n",
    "print(\"After func call:\", s0, s1, s2, s3)"
   ]
  },
  {
   "cell_type": "code",
   "execution_count": 13,
   "metadata": {
    "tags": []
   },
   "outputs": [
    {
     "output_type": "stream",
     "name": "stdout",
     "text": "In event1: happy ->After event1: happy\nIn event2: Sad     ->After event2: happy\nin event3: Tired ->After event3: Tired\nIn event4: Excite -> After event4: Tired\nIn event5: Scare  -> After event5: Tired\n"
    }
   ],
   "source": [
    "x= 'happy'\n",
    "def event1():\n",
    "    print(\"In event1:\", x, end=\" ->\")\n",
    "\n",
    "def event2():\n",
    "    x = 'Sad    '\n",
    "    print(\"In event2:\", x, end=\" ->\")\n",
    "\n",
    "def event3():\n",
    "    global x \n",
    "    x  ='Tired'\n",
    "    print(\"in event3:\", x, end=\" ->\")\n",
    "\n",
    "def event4():\n",
    "    x = 'Excite'\n",
    "    def happening():\n",
    "        print(\"In event4:\", x, end=\" -> \")\n",
    "    happening()\n",
    "\n",
    "def event5():\n",
    "    x = 'Fun    '\n",
    "    def happening():\n",
    "        nonlocal x\n",
    "        x = 'Scare '\n",
    "    happening()\n",
    "    print(\"In event5:\", x, end=\" -> \")\n",
    "\n",
    "func_list = [event1, event2, event3, event4, event5]\n",
    "for f in func_list:\n",
    "    f()\n",
    "    print(\"After {}: {}\".format(f.__name__, x))"
   ]
  },
  {
   "cell_type": "code",
   "execution_count": null,
   "metadata": {},
   "outputs": [],
   "source": []
  }
 ]
}