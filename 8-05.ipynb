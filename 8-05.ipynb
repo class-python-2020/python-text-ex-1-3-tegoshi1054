{
 "metadata": {
  "language_info": {
   "codemirror_mode": {
    "name": "ipython",
    "version": 3
   },
   "file_extension": ".py",
   "mimetype": "text/x-python",
   "name": "python",
   "nbconvert_exporter": "python",
   "pygments_lexer": "ipython3",
   "version": "3.8.2-final"
  },
  "orig_nbformat": 2,
  "kernelspec": {
   "name": "python38232bit63e2fce86a434c428a352e1a00e6265a",
   "display_name": "Python 3.8.2 32-bit"
  }
 },
 "nbformat": 4,
 "nbformat_minor": 2,
 "cells": [
  {
   "cell_type": "code",
   "execution_count": 1,
   "metadata": {},
   "outputs": [
    {
     "output_type": "execute_result",
     "data": {
      "text/plain": "3.141592653589793"
     },
     "metadata": {},
     "execution_count": 1
    }
   ],
   "source": [
    "import math\n",
    "math.pi "
   ]
  },
  {
   "cell_type": "code",
   "execution_count": 2,
   "metadata": {},
   "outputs": [
    {
     "output_type": "execute_result",
     "data": {
      "text/plain": "2.718281828459045"
     },
     "metadata": {},
     "execution_count": 2
    }
   ],
   "source": [
    "math.e"
   ]
  },
  {
   "cell_type": "code",
   "execution_count": 3,
   "metadata": {},
   "outputs": [
    {
     "output_type": "execute_result",
     "data": {
      "text/plain": "inf"
     },
     "metadata": {},
     "execution_count": 3
    }
   ],
   "source": [
    "math.inf"
   ]
  },
  {
   "cell_type": "code",
   "execution_count": 4,
   "metadata": {},
   "outputs": [
    {
     "output_type": "execute_result",
     "data": {
      "text/plain": "float"
     },
     "metadata": {},
     "execution_count": 4
    }
   ],
   "source": [
    "type(math.inf)"
   ]
  },
  {
   "cell_type": "code",
   "execution_count": 6,
   "metadata": {},
   "outputs": [
    {
     "output_type": "execute_result",
     "data": {
      "text/plain": "nan"
     },
     "metadata": {},
     "execution_count": 6
    }
   ],
   "source": [
    "math.nan "
   ]
  },
  {
   "cell_type": "code",
   "execution_count": 7,
   "metadata": {},
   "outputs": [
    {
     "output_type": "execute_result",
     "data": {
      "text/plain": "float"
     },
     "metadata": {},
     "execution_count": 7
    }
   ],
   "source": [
    "type(math.nan)"
   ]
  },
  {
   "cell_type": "code",
   "execution_count": 9,
   "metadata": {},
   "outputs": [
    {
     "output_type": "execute_result",
     "data": {
      "text/plain": "True"
     },
     "metadata": {},
     "execution_count": 9
    }
   ],
   "source": [
    "math.inf == math.inf"
   ]
  },
  {
   "cell_type": "code",
   "execution_count": 10,
   "metadata": {},
   "outputs": [
    {
     "output_type": "execute_result",
     "data": {
      "text/plain": "False"
     },
     "metadata": {},
     "execution_count": 10
    }
   ],
   "source": [
    "math.nan == math.nan"
   ]
  },
  {
   "cell_type": "code",
   "execution_count": 12,
   "metadata": {},
   "outputs": [
    {
     "output_type": "execute_result",
     "data": {
      "text/plain": "True"
     },
     "metadata": {},
     "execution_count": 12
    }
   ],
   "source": [
    "math.isfinite(0.0)"
   ]
  },
  {
   "cell_type": "code",
   "execution_count": 14,
   "metadata": {},
   "outputs": [
    {
     "output_type": "execute_result",
     "data": {
      "text/plain": "False"
     },
     "metadata": {},
     "execution_count": 14
    }
   ],
   "source": [
    "math.isfinite(math.inf)"
   ]
  },
  {
   "cell_type": "code",
   "execution_count": 15,
   "metadata": {},
   "outputs": [
    {
     "output_type": "execute_result",
     "data": {
      "text/plain": "False"
     },
     "metadata": {},
     "execution_count": 15
    }
   ],
   "source": [
    "math.isfinite(math.nan)"
   ]
  },
  {
   "cell_type": "code",
   "execution_count": 16,
   "metadata": {},
   "outputs": [
    {
     "output_type": "execute_result",
     "data": {
      "text/plain": "True"
     },
     "metadata": {},
     "execution_count": 16
    }
   ],
   "source": [
    "math.isinf(math.inf)"
   ]
  },
  {
   "cell_type": "code",
   "execution_count": 18,
   "metadata": {},
   "outputs": [
    {
     "output_type": "execute_result",
     "data": {
      "text/plain": "True"
     },
     "metadata": {},
     "execution_count": 18
    }
   ],
   "source": [
    "math.isnan(math.nan)"
   ]
  },
  {
   "cell_type": "code",
   "execution_count": 19,
   "metadata": {},
   "outputs": [
    {
     "output_type": "execute_result",
     "data": {
      "text/plain": "False"
     },
     "metadata": {},
     "execution_count": 19
    }
   ],
   "source": [
    "a = 0.3\n",
    "b = 0.1+0.1+0.1\n",
    "a == b"
   ]
  },
  {
   "cell_type": "code",
   "execution_count": 21,
   "metadata": {},
   "outputs": [
    {
     "output_type": "execute_result",
     "data": {
      "text/plain": "True"
     },
     "metadata": {},
     "execution_count": 21
    }
   ],
   "source": [
    "math.isclose(a,b)"
   ]
  },
  {
   "cell_type": "code",
   "execution_count": 22,
   "metadata": {
    "tags": []
   },
   "outputs": [
    {
     "output_type": "stream",
     "name": "stdout",
     "text": "Help on built-in function isclose in module math:\n\nisclose(a, b, *, rel_tol=1e-09, abs_tol=0.0)\n    Determine whether two floating point numbers are close in value.\n    \n      rel_tol\n        maximum difference for being considered \"close\", relative to the\n        magnitude of the input values\n      abs_tol\n        maximum difference for being considered \"close\", regardless of the\n        magnitude of the input values\n    \n    Return True if a is close in value to b, and False otherwise.\n    \n    For the values to be considered close, the difference between them\n    must be smaller than at least one of the tolerances.\n    \n    -inf, inf and NaN behave similarly to the IEEE 754 Standard.  That\n    is, NaN is not close to anything, even itself.  inf and -inf are\n    only close to themselves.\n\n"
    }
   ],
   "source": [
    "help(math.isclose)"
   ]
  },
  {
   "cell_type": "code",
   "execution_count": 23,
   "metadata": {},
   "outputs": [
    {
     "output_type": "execute_result",
     "data": {
      "text/plain": "True"
     },
     "metadata": {},
     "execution_count": 23
    }
   ],
   "source": [
    "a = 0.0\n",
    "b = a/pow(2,53)\n",
    "tol = 1/pow(2,50)\n",
    "math.isclose(a,b,abs_tol=tol)"
   ]
  },
  {
   "cell_type": "code",
   "execution_count": 24,
   "metadata": {},
   "outputs": [
    {
     "output_type": "execute_result",
     "data": {
      "text/plain": "True"
     },
     "metadata": {},
     "execution_count": 24
    }
   ],
   "source": [
    "b=-1/pow(2,53)\n",
    "math.isclose(a,b,abs_tol=tol)"
   ]
  },
  {
   "cell_type": "code",
   "execution_count": 27,
   "metadata": {},
   "outputs": [
    {
     "output_type": "execute_result",
     "data": {
      "text/plain": "[0.2, 0.6, 0.1, 0.9, 0.2]"
     },
     "metadata": {},
     "execution_count": 27
    }
   ],
   "source": [
    "import random\n",
    "random.seed(85)\n",
    "\n",
    "data = [round(random.random(),1) for i in range(5)]\n",
    "data"
   ]
  },
  {
   "cell_type": "code",
   "execution_count": 28,
   "metadata": {},
   "outputs": [
    {
     "output_type": "execute_result",
     "data": {
      "text/plain": "0.4"
     },
     "metadata": {},
     "execution_count": 28
    }
   ],
   "source": [
    "sum(data)/len(data)"
   ]
  },
  {
   "cell_type": "code",
   "execution_count": 29,
   "metadata": {},
   "outputs": [
    {
     "output_type": "execute_result",
     "data": {
      "text/plain": "0.4"
     },
     "metadata": {},
     "execution_count": 29
    }
   ],
   "source": [
    "import statistics\n",
    "statistics.mean(data)"
   ]
  },
  {
   "cell_type": "code",
   "execution_count": 30,
   "metadata": {},
   "outputs": [
    {
     "output_type": "execute_result",
     "data": {
      "text/plain": "0.2"
     },
     "metadata": {},
     "execution_count": 30
    }
   ],
   "source": [
    "statistics.median(data)"
   ]
  },
  {
   "cell_type": "code",
   "execution_count": 31,
   "metadata": {},
   "outputs": [
    {
     "output_type": "execute_result",
     "data": {
      "text/plain": "0.2"
     },
     "metadata": {},
     "execution_count": 31
    }
   ],
   "source": [
    "statistics.mode(data)"
   ]
  },
  {
   "cell_type": "code",
   "execution_count": 32,
   "metadata": {},
   "outputs": [
    {
     "output_type": "execute_result",
     "data": {
      "text/plain": "[0.1, 0.2, 0.2, 0.6, 0.9]"
     },
     "metadata": {},
     "execution_count": 32
    }
   ],
   "source": [
    "sorted(data)"
   ]
  },
  {
   "cell_type": "code",
   "execution_count": 33,
   "metadata": {},
   "outputs": [
    {
     "output_type": "execute_result",
     "data": {
      "text/plain": "[0.0, 0.2, 0.4, 0.4, 0.5, 0.5, 0.5, 0.6, 0.6, 0.6, 0.7, 0.7, 0.8, 0.8, 0.9]"
     },
     "metadata": {},
     "execution_count": 33
    }
   ],
   "source": [
    "data = [round(random.random(),1) for i in range(15)]\n",
    "statistics.mode(data)\n",
    "sorted(data)"
   ]
  },
  {
   "cell_type": "code",
   "execution_count": 36,
   "metadata": {
    "tags": []
   },
   "outputs": [
    {
     "output_type": "stream",
     "name": "stdout",
     "text": "3.1415899010576593\n5862\n"
    }
   ],
   "source": [
    "import math\n",
    "import random\n",
    "\n",
    "total = 0\n",
    "num_inside = 0\n",
    "sim_pi=0\n",
    "while not math.isclose(sim_pi, math.pi, abs_tol=1e-5):\n",
    "    x = random.random()\n",
    "    y = random.random()\n",
    "    L = pow(x**2 + y**2, 0.5)\n",
    "    total += 1\n",
    "    if L <= 1:\n",
    "        num_inside += 1\n",
    "    sim_pi = 4 * num_inside / total\n",
    "print(sim_pi)\n",
    "print(total)"
   ]
  }
 ]
}