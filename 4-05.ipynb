{
 "metadata": {
  "language_info": {
   "codemirror_mode": {
    "name": "ipython",
    "version": 3
   },
   "file_extension": ".py",
   "mimetype": "text/x-python",
   "name": "python",
   "nbconvert_exporter": "python",
   "pygments_lexer": "ipython3",
   "version": "3.8.2-final"
  },
  "orig_nbformat": 2,
  "kernelspec": {
   "name": "python38232bit63e2fce86a434c428a352e1a00e6265a",
   "display_name": "Python 3.8.2 32-bit"
  }
 },
 "nbformat": 4,
 "nbformat_minor": 2,
 "cells": [
  {
   "cell_type": "code",
   "execution_count": 1,
   "metadata": {},
   "outputs": [
    {
     "output_type": "execute_result",
     "data": {
      "text/plain": "10"
     },
     "metadata": {},
     "execution_count": 1
    }
   ],
   "source": [
    "sum([1,2,3,4])"
   ]
  },
  {
   "cell_type": "code",
   "execution_count": 2,
   "metadata": {},
   "outputs": [
    {
     "output_type": "execute_result",
     "data": {
      "text/plain": "45"
     },
     "metadata": {},
     "execution_count": 2
    }
   ],
   "source": [
    "sum(range(10))"
   ]
  },
  {
   "cell_type": "code",
   "execution_count": 4,
   "metadata": {},
   "outputs": [
    {
     "output_type": "execute_result",
     "data": {
      "text/plain": "10"
     },
     "metadata": {},
     "execution_count": 4
    }
   ],
   "source": [
    "add_all = sum\n",
    "add_all([1,2,3,4])"
   ]
  },
  {
   "cell_type": "code",
   "execution_count": 5,
   "metadata": {},
   "outputs": [
    {
     "output_type": "execute_result",
     "data": {
      "text/plain": "45"
     },
     "metadata": {},
     "execution_count": 5
    }
   ],
   "source": [
    "add_all(range(10))"
   ]
  },
  {
   "cell_type": "code",
   "execution_count": 11,
   "metadata": {},
   "outputs": [],
   "source": [
    "def say_hello():\n",
    "    print('こんにちは')"
   ]
  },
  {
   "cell_type": "code",
   "execution_count": 12,
   "metadata": {
    "tags": []
   },
   "outputs": [
    {
     "output_type": "stream",
     "name": "stdout",
     "text": "こんにちは\n"
    }
   ],
   "source": [
    "say_hello()"
   ]
  },
  {
   "cell_type": "code",
   "execution_count": 13,
   "metadata": {},
   "outputs": [],
   "source": [
    "def run_any_func(func):\n",
    "    for i in range(2):\n",
    "        func()"
   ]
  },
  {
   "cell_type": "code",
   "execution_count": 14,
   "metadata": {
    "tags": []
   },
   "outputs": [
    {
     "output_type": "stream",
     "name": "stdout",
     "text": "こんにちは\nこんにちは\n"
    }
   ],
   "source": [
    "run_any_func(say_hello)"
   ]
  },
  {
   "cell_type": "code",
   "execution_count": 15,
   "metadata": {},
   "outputs": [],
   "source": [
    "def multi_func(number):\n",
    "    if number ==0:\n",
    "        print('min', end=\" \")\n",
    "        return min\n",
    "    if number ==1:\n",
    "        print('max', end=\" \")\n",
    "        return max\n",
    "    else:\n",
    "        print('sum', end=\" \")\n",
    "        return sum"
   ]
  },
  {
   "cell_type": "code",
   "execution_count": 16,
   "metadata": {
    "tags": []
   },
   "outputs": [
    {
     "output_type": "stream",
     "name": "stdout",
     "text": "max 4\nmax 4\nmax 4\n"
    }
   ],
   "source": [
    "num_list = [1,2,3,4]\n",
    "for i in [0,1,2]:\n",
    "    func = multi_func(1)\n",
    "    print(func(num_list))"
   ]
  },
  {
   "cell_type": "code",
   "execution_count": 17,
   "metadata": {
    "tags": []
   },
   "outputs": [
    {
     "output_type": "stream",
     "name": "stdout",
     "text": "min 1\nmax 4\nsum 10\n"
    }
   ],
   "source": [
    "num_kist = [1,2,3,4]\n",
    "for i in [0,1,2]:\n",
    "    print(multi_func(i)(num_list))"
   ]
  },
  {
   "cell_type": "code",
   "execution_count": 18,
   "metadata": {},
   "outputs": [],
   "source": [
    "functions = [sum, min , max]"
   ]
  },
  {
   "cell_type": "code",
   "execution_count": 19,
   "metadata": {},
   "outputs": [
    {
     "output_type": "execute_result",
     "data": {
      "text/plain": "[1, 2, 3, 4, 5, 6, 7, 8, 9, 10]"
     },
     "metadata": {},
     "execution_count": 19
    }
   ],
   "source": [
    "numbers = range(1, 11)\n",
    "list(numbers)"
   ]
  },
  {
   "cell_type": "code",
   "execution_count": 22,
   "metadata": {
    "tags": []
   },
   "outputs": [
    {
     "output_type": "stream",
     "name": "stdout",
     "text": "Function: sum, Result: 55\nFunction: min, Result: 1\nFunction: max, Result: 10\n"
    }
   ],
   "source": [
    "function = [sum, min, max]\n",
    "number_list = range(1, 11)\n",
    "for func in functions:\n",
    "    print(\"Function: {}, Result: {}\".format(\n",
    "        func.__name__, func(number_list)))"
   ]
  },
  {
   "cell_type": "code",
   "execution_count": 23,
   "metadata": {},
   "outputs": [],
   "source": [
    "s_coordi_list = [\"1.0,2.2,3.5\", \"2.1,3.2,5.5\", \"1.2,1.3,2.2\", \"2.1,3.1,4.5\"]"
   ]
  },
  {
   "cell_type": "code",
   "execution_count": 24,
   "metadata": {},
   "outputs": [],
   "source": [
    "f_coordi_list = [[1.0,2.2,3.5], [2.,3.2,5.5], [1.2,1.3,2.2], [2.1,3.1,4.5]]"
   ]
  },
  {
   "cell_type": "code",
   "execution_count": 28,
   "metadata": {},
   "outputs": [
    {
     "output_type": "execute_result",
     "data": {
      "text/plain": "['1.0', '2.2', '3.5']"
     },
     "metadata": {},
     "execution_count": 28
    }
   ],
   "source": [
    "s_coordi = \"1.0,2.2,3.5\"\n",
    "s_coordi.split(\",\")"
   ]
  },
  {
   "cell_type": "code",
   "execution_count": 31,
   "metadata": {},
   "outputs": [],
   "source": [
    "s_num = \"1.0\"\n",
    "f_num = float(s_num)"
   ]
  },
  {
   "cell_type": "code",
   "execution_count": 32,
   "metadata": {
    "tags": []
   },
   "outputs": [
    {
     "output_type": "stream",
     "name": "stdout",
     "text": "<class 'str'> 1.0\n<class 'float'> 1.0\n"
    },
    {
     "output_type": "execute_result",
     "data": {
      "text/plain": "['1.0', 1.0]"
     },
     "metadata": {},
     "execution_count": 32
    }
   ],
   "source": [
    "print(type(s_num), s_num)\n",
    "print(type(f_num), f_num)\n",
    "[s_num, f_num]"
   ]
  },
  {
   "cell_type": "code",
   "execution_count": 34,
   "metadata": {
    "tags": []
   },
   "outputs": [
    {
     "output_type": "stream",
     "name": "stdout",
     "text": "2 4 6 8 10 12 14"
    }
   ],
   "source": [
    "num_list = list(range(1, 8))\n",
    "\n",
    "def double(x):\n",
    "    '''与えられたオブジェクトを2倍する'''\n",
    "    return x * 2\n",
    "\n",
    "for e in map(double, num_list):\n",
    "    print(e, end=\" \")"
   ]
  },
  {
   "cell_type": "code",
   "execution_count": 35,
   "metadata": {},
   "outputs": [
    {
     "output_type": "execute_result",
     "data": {
      "text/plain": "<map at 0x14a2f70>"
     },
     "metadata": {},
     "execution_count": 35
    }
   ],
   "source": [
    "map(double, num_list)"
   ]
  },
  {
   "cell_type": "code",
   "execution_count": 37,
   "metadata": {},
   "outputs": [
    {
     "output_type": "execute_result",
     "data": {
      "text/plain": "[2, 4, 6, 8, 10, 12, 14]"
     },
     "metadata": {},
     "execution_count": 37
    }
   ],
   "source": [
    "list(map(double, num_list))"
   ]
  },
  {
   "cell_type": "code",
   "execution_count": 38,
   "metadata": {
    "tags": []
   },
   "outputs": [
    {
     "output_type": "stream",
     "name": "stdout",
     "text": "[[1.0, 2.2, 3.5], [2.1, 3.2, 5.5], [1.2, 1.3, 2.2], [2.1, 3.1, 4.5]]\n"
    }
   ],
   "source": [
    "s_coordi_list = [\"1.0,2.2,3.5\", \"2.1,3.2,5.5\", \"1.2,1.3,2.2\", \"2.1,3.1,4.5\"]\n",
    "\n",
    "def str_to_float_coordi(s_coordi):\n",
    "    '''与えられた文字列をカンマで分割しfloat型に変換して数値リストを返す'''\n",
    "    p = s_coordi.split(\",\")\n",
    "    return list(map(float, p))\n",
    "\n",
    "def str_to_float_coordi_iter(s_coordi_list):\n",
    "    '''与えられたリストの要素を　str_to_float_coordi() 関数で処理して結果を差す反復可能体(iterable)を返す'''\n",
    "    return map(str_to_float_coordi, s_coordi_list)\n",
    "\n",
    "f_coordi_list = list(str_to_float_coordi_iter(s_coordi_list))\n",
    "\n",
    "print(f_coordi_list)"
   ]
  },
  {
   "cell_type": "code",
   "execution_count": 39,
   "metadata": {
    "tags": []
   },
   "outputs": [
    {
     "output_type": "stream",
     "name": "stdout",
     "text": "[[1.0, 2.2, 3.5], [2.1, 3.2, 5.5], [1.2, 1.3, 2.2], [2.1, 3.1, 4.5]]\n"
    }
   ],
   "source": [
    "s_coordi_list = [\"1.0,2.2,3.5\", \"2.1,3.2,5.5\", \"1.2,1.3,2.2\", \"2.1,3.1,4.5\"]\n",
    "\n",
    "def str_in_float_coordi(s_coordi):\n",
    "    '''あたえっられた文字列をカンマで分割しfloat型に変換して数値リストを変えす'''\n",
    "    p = s_coodi,split(\",\")\n",
    "    f_coordi = []\n",
    "    for n in p:\n",
    "        f_coordi.append(float(n))\n",
    "    return f_coordi\n",
    "\n",
    "f_coordi_list = []\n",
    "for s_coordi in s_coordi_list:\n",
    "    f_coordi_list.append(str_to_float_coordi(s_coordi))\n",
    "\n",
    "print(f_coordi_list)"
   ]
  }
 ]
}