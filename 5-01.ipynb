{
 "metadata": {
  "language_info": {
   "codemirror_mode": {
    "name": "ipython",
    "version": 3
   },
   "file_extension": ".py",
   "mimetype": "text/x-python",
   "name": "python",
   "nbconvert_exporter": "python",
   "pygments_lexer": "ipython3",
   "version": "3.8.2-final"
  },
  "orig_nbformat": 2,
  "kernelspec": {
   "name": "python38232bit63e2fce86a434c428a352e1a00e6265a",
   "display_name": "Python 3.8.2 32-bit"
  }
 },
 "nbformat": 4,
 "nbformat_minor": 2,
 "cells": [
  {
   "cell_type": "code",
   "execution_count": 2,
   "metadata": {},
   "outputs": [],
   "source": [
    "square = []\n",
    "square.append(1)\n",
    "square.append(4)\n",
    "square.append(9)\n",
    "square.append(16)\n",
    "square.append(25)"
   ]
  },
  {
   "cell_type": "code",
   "execution_count": 3,
   "metadata": {},
   "outputs": [
    {
     "output_type": "execute_result",
     "data": {
      "text/plain": "[1, 4, 9, 16, 25]"
     },
     "metadata": {},
     "execution_count": 3
    }
   ],
   "source": [
    "square"
   ]
  },
  {
   "cell_type": "code",
   "execution_count": 4,
   "metadata": {},
   "outputs": [],
   "source": [
    "square2 = [36, 49]\n",
    "square.extend(square)"
   ]
  },
  {
   "cell_type": "code",
   "execution_count": 6,
   "metadata": {},
   "outputs": [
    {
     "output_type": "execute_result",
     "data": {
      "text/plain": "[1, 4, 9, 16, 25, 1, 4, 9, 16, 25]"
     },
     "metadata": {},
     "execution_count": 6
    }
   ],
   "source": [
    "square"
   ]
  },
  {
   "cell_type": "code",
   "execution_count": 7,
   "metadata": {},
   "outputs": [],
   "source": [
    "square.insert(2, 7)"
   ]
  },
  {
   "cell_type": "code",
   "execution_count": 8,
   "metadata": {},
   "outputs": [
    {
     "output_type": "execute_result",
     "data": {
      "text/plain": "[1, 4, 7, 9, 16, 25, 1, 4, 9, 16, 25]"
     },
     "metadata": {},
     "execution_count": 8
    }
   ],
   "source": [
    "square"
   ]
  },
  {
   "cell_type": "code",
   "execution_count": 9,
   "metadata": {},
   "outputs": [],
   "source": [
    "square.remove(7)"
   ]
  },
  {
   "cell_type": "code",
   "execution_count": 10,
   "metadata": {},
   "outputs": [
    {
     "output_type": "execute_result",
     "data": {
      "text/plain": "[1, 4, 9, 16, 25, 1, 4, 9, 16, 25]"
     },
     "metadata": {},
     "execution_count": 10
    }
   ],
   "source": [
    "square"
   ]
  },
  {
   "cell_type": "code",
   "execution_count": 11,
   "metadata": {},
   "outputs": [
    {
     "output_type": "execute_result",
     "data": {
      "text/plain": "4"
     },
     "metadata": {},
     "execution_count": 11
    }
   ],
   "source": [
    "square.pop(1)"
   ]
  },
  {
   "cell_type": "code",
   "execution_count": 12,
   "metadata": {},
   "outputs": [
    {
     "output_type": "execute_result",
     "data": {
      "text/plain": "[1, 9, 16, 25, 1, 4, 9, 16, 25]"
     },
     "metadata": {},
     "execution_count": 12
    }
   ],
   "source": [
    "square"
   ]
  },
  {
   "cell_type": "code",
   "execution_count": 13,
   "metadata": {},
   "outputs": [],
   "source": [
    "square.clear()"
   ]
  },
  {
   "cell_type": "code",
   "execution_count": 14,
   "metadata": {},
   "outputs": [
    {
     "output_type": "execute_result",
     "data": {
      "text/plain": "[]"
     },
     "metadata": {},
     "execution_count": 14
    }
   ],
   "source": [
    "square"
   ]
  },
  {
   "cell_type": "code",
   "execution_count": 16,
   "metadata": {},
   "outputs": [
    {
     "output_type": "execute_result",
     "data": {
      "text/plain": "3"
     },
     "metadata": {},
     "execution_count": 16
    }
   ],
   "source": [
    "square = [1,4,9,16,25]\n",
    "square.index(16)"
   ]
  },
  {
   "cell_type": "code",
   "execution_count": 17,
   "metadata": {},
   "outputs": [
    {
     "output_type": "execute_result",
     "data": {
      "text/plain": "[1, 4, 9, 16, 25]"
     },
     "metadata": {},
     "execution_count": 17
    }
   ],
   "source": [
    "square = [16, 9, 25, 1, 4]\n",
    "square.sort()\n",
    "square"
   ]
  },
  {
   "cell_type": "code",
   "execution_count": 22,
   "metadata": {},
   "outputs": [
    {
     "output_type": "execute_result",
     "data": {
      "text/plain": "[[99, 58, 33], [5, 8, 10], [21, 2, 9], [7, 3, 2]]"
     },
     "metadata": {},
     "execution_count": 22
    }
   ],
   "source": [
    "x = [[5, 8, 10],\n",
    "    [7, 3, 2],\n",
    "    [21, 2, 9],\n",
    "    [99, 58, 33]]\n",
    "x.sort(key=lambda x: x[2], reverse=True)\n",
    "x"
   ]
  },
  {
   "cell_type": "code",
   "execution_count": 23,
   "metadata": {},
   "outputs": [
    {
     "output_type": "execute_result",
     "data": {
      "text/plain": "[25, 16, 9, 4, 1]"
     },
     "metadata": {},
     "execution_count": 23
    }
   ],
   "source": [
    "square = [1, 4, 9, 16, 25]\n",
    "square.reverse()\n",
    "square"
   ]
  },
  {
   "cell_type": "code",
   "execution_count": 24,
   "metadata": {},
   "outputs": [
    {
     "output_type": "execute_result",
     "data": {
      "text/plain": "[[1, 4, 9], [16, 25]]"
     },
     "metadata": {},
     "execution_count": 24
    }
   ],
   "source": [
    "square = [[1, 4, 9], [16, 25]]\n",
    "square2 = square.copy()\n",
    "square2\n"
   ]
  },
  {
   "cell_type": "code",
   "execution_count": 25,
   "metadata": {
    "tags": []
   },
   "outputs": [
    {
     "output_type": "stream",
     "name": "stdout",
     "text": "Suzuki\n"
    }
   ],
   "source": [
    "members = ['Yamada', 'Tanaka', 'Sato', 'Suzuki']\n",
    "name = members.pop(3)\n",
    "print(name)"
   ]
  },
  {
   "cell_type": "code",
   "execution_count": 28,
   "metadata": {
    "tags": []
   },
   "outputs": [
    {
     "output_type": "stream",
     "name": "stdout",
     "text": "stack: [1]\nstack: [1, 2]\npop 1st value: 2\npop 2nd value: 1\nstack: []\n"
    }
   ],
   "source": [
    "stack = []\n",
    "stack.append(1)\n",
    "print('stack:', stack)\n",
    "stack.append(2)\n",
    "print('stack:', stack)\n",
    "print('pop 1st value:', stack.pop())\n",
    "print('pop 2nd value:', stack.pop())\n",
    "print('stack:', stack)"
   ]
  },
  {
   "cell_type": "code",
   "execution_count": 29,
   "metadata": {
    "tags": []
   },
   "outputs": [
    {
     "output_type": "stream",
     "name": "stdout",
     "text": "queue: [1]\nqueue: [1, 2]\npop from queue 1st value: 1\npop from queue 2nd value: 2\nqueue: []\n"
    }
   ],
   "source": [
    "queue = []\n",
    "queue.append(1)\n",
    "print('queue:', queue)\n",
    "queue.append(2)\n",
    "print('queue:', queue)\n",
    "print('pop from queue 1st value:', queue.pop(0))\n",
    "print('pop from queue 2nd value:', queue.pop(0))\n",
    "print('queue:', queue)"
   ]
  },
  {
   "cell_type": "code",
   "execution_count": 31,
   "metadata": {
    "tags": []
   },
   "outputs": [
    {
     "output_type": "stream",
     "name": "stdout",
     "text": "queue: deque([1, 2, 3, 4])\npopleft from queue 1st value: 1\npopleft from queue 2nd value: 2\nqueue: deque([3, 4])\n"
    }
   ],
   "source": [
    "from collections import deque\n",
    "queue = deque([1, 2])\n",
    "queue.append(3)\n",
    "queue.append(4)\n",
    "print('queue:', queue)\n",
    "print('popleft from queue 1st value:', queue.popleft())\n",
    "print('popleft from queue 2nd value:', queue.popleft())\n",
    "print('queue:', queue)"
   ]
  },
  {
   "cell_type": "code",
   "execution_count": 33,
   "metadata": {},
   "outputs": [
    {
     "output_type": "execute_result",
     "data": {
      "text/plain": "[[1, 2], [3, 4]]"
     },
     "metadata": {},
     "execution_count": 33
    }
   ],
   "source": [
    "a = [1, 2]\n",
    "b = [3, 4]\n",
    "x = [a, b]\n",
    "x"
   ]
  },
  {
   "cell_type": "code",
   "execution_count": 34,
   "metadata": {},
   "outputs": [
    {
     "output_type": "execute_result",
     "data": {
      "text/plain": "[[99, 2], [3, 4]]"
     },
     "metadata": {},
     "execution_count": 34
    }
   ],
   "source": [
    "a[0]=99\n",
    "x"
   ]
  },
  {
   "cell_type": "code",
   "execution_count": 35,
   "metadata": {},
   "outputs": [
    {
     "output_type": "execute_result",
     "data": {
      "text/plain": "[[4, 4, 9], [16, 25]]"
     },
     "metadata": {},
     "execution_count": 35
    }
   ],
   "source": [
    "import copy\n",
    "square = [[1,4,9],[16,25]]\n",
    "square2 = copy.copy(square)\n",
    "square[0][0] = 4\n",
    "square2"
   ]
  },
  {
   "cell_type": "code",
   "execution_count": 36,
   "metadata": {},
   "outputs": [
    {
     "output_type": "execute_result",
     "data": {
      "text/plain": "[[36], [16, 25]]"
     },
     "metadata": {},
     "execution_count": 36
    }
   ],
   "source": [
    "import copy\n",
    "square = [[1,4,9],[16,25]]\n",
    "square2 = copy.copy(square)\n",
    "square[0] = [36]\n",
    "square"
   ]
  },
  {
   "cell_type": "code",
   "execution_count": 37,
   "metadata": {},
   "outputs": [
    {
     "output_type": "execute_result",
     "data": {
      "text/plain": "[[1, 4, 9], [16, 25]]"
     },
     "metadata": {},
     "execution_count": 37
    }
   ],
   "source": [
    "square2"
   ]
  },
  {
   "cell_type": "code",
   "execution_count": 39,
   "metadata": {},
   "outputs": [
    {
     "output_type": "execute_result",
     "data": {
      "text/plain": "[[36], [16, 25]]"
     },
     "metadata": {},
     "execution_count": 39
    }
   ],
   "source": [
    "import copy\n",
    "square = [[1,4,9],[16,25]]\n",
    "square2 = square\n",
    "square[0] = [36]\n",
    "square"
   ]
  },
  {
   "cell_type": "code",
   "execution_count": 40,
   "metadata": {},
   "outputs": [
    {
     "output_type": "execute_result",
     "data": {
      "text/plain": "[[36], [16, 25]]"
     },
     "metadata": {},
     "execution_count": 40
    }
   ],
   "source": [
    "square2"
   ]
  },
  {
   "cell_type": "code",
   "execution_count": 42,
   "metadata": {},
   "outputs": [
    {
     "output_type": "execute_result",
     "data": {
      "text/plain": "[[1, 4, 9], [16, 25]]"
     },
     "metadata": {},
     "execution_count": 42
    }
   ],
   "source": [
    "import copy\n",
    "square = [[1,4,9],[16,25]]\n",
    "square2 = copy.deepcopy(square)\n",
    "square[0][0] = 99\n",
    "square[1] = 999\n",
    "square2"
   ]
  },
  {
   "cell_type": "code",
   "execution_count": null,
   "metadata": {},
   "outputs": [],
   "source": []
  }
 ]
}