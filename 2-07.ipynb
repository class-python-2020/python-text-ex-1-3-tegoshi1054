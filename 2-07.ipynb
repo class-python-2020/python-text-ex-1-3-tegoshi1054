{
 "metadata": {
  "language_info": {
   "codemirror_mode": {
    "name": "ipython",
    "version": 3
   },
   "file_extension": ".py",
   "mimetype": "text/x-python",
   "name": "python",
   "nbconvert_exporter": "python",
   "pygments_lexer": "ipython3",
   "version": "3.8.2-final"
  },
  "orig_nbformat": 2,
  "kernelspec": {
   "name": "python38232bit63e2fce86a434c428a352e1a00e6265a",
   "display_name": "Python 3.8.2 32-bit"
  }
 },
 "nbformat": 4,
 "nbformat_minor": 2,
 "cells": [
  {
   "cell_type": "code",
   "execution_count": 2,
   "metadata": {},
   "outputs": [
    {
     "output_type": "execute_result",
     "data": {
      "text/plain": "[]"
     },
     "metadata": {},
     "execution_count": 2
    }
   ],
   "source": [
    "[]"
   ]
  },
  {
   "cell_type": "code",
   "execution_count": 4,
   "metadata": {},
   "outputs": [
    {
     "output_type": "execute_result",
     "data": {
      "text/plain": "[2, 4, 8, 16]"
     },
     "metadata": {},
     "execution_count": 4
    }
   ],
   "source": [
    "[2,4,8,16]"
   ]
  },
  {
   "cell_type": "code",
   "execution_count": 6,
   "metadata": {},
   "outputs": [
    {
     "output_type": "execute_result",
     "data": {
      "text/plain": "[2, 4, 8, 16, 3, 6, 9, 12]"
     },
     "metadata": {},
     "execution_count": 6
    }
   ],
   "source": [
    "[2,4,8,16]+[3,6,9,12]"
   ]
  },
  {
   "cell_type": "code",
   "execution_count": 10,
   "metadata": {},
   "outputs": [
    {
     "output_type": "execute_result",
     "data": {
      "text/plain": "[2, 4, 8, 16, 3, 6, 9, 12]"
     },
     "metadata": {},
     "execution_count": 10
    }
   ],
   "source": [
    "my_list=[2,4,8,16]\n",
    "my_list+[3,6,9,12]"
   ]
  },
  {
   "cell_type": "code",
   "execution_count": 12,
   "metadata": {
    "tags": []
   },
   "outputs": [
    {
     "output_type": "stream",
     "name": "stdout",
     "text": "[2, 4, 8, 16]\n"
    }
   ],
   "source": [
    "print(my_list)"
   ]
  },
  {
   "cell_type": "code",
   "execution_count": 16,
   "metadata": {
    "tags": []
   },
   "outputs": [
    {
     "output_type": "stream",
     "name": "stdout",
     "text": "[2, 4, 8, 16, 3, 6, 9]\n"
    }
   ],
   "source": [
    "my_list=[2,4,8,16]\n",
    "my_list.append(3)\n",
    "my_list.append(6)\n",
    "my_list.append(9)\n",
    "print(my_list)"
   ]
  },
  {
   "cell_type": "code",
   "execution_count": 18,
   "metadata": {
    "tags": []
   },
   "outputs": [
    {
     "output_type": "stream",
     "name": "stdout",
     "text": "[2, 4, 8, 16, 3, 6, 9, 12]\n"
    }
   ],
   "source": [
    "    my_list=[2,4,8,16]\n",
    "    my_list.extend([3,6,9,12])\n",
    "    print(my_list)"
   ]
  },
  {
   "cell_type": "code",
   "execution_count": 20,
   "metadata": {
    "tags": []
   },
   "outputs": [
    {
     "output_type": "stream",
     "name": "stdout",
     "text": "[2, 3, 4, 6, 8, 9, 12, 16]\n"
    }
   ],
   "source": [
    "my_list=[2,4,8,16,3,6,9,12]\n",
    "my_list.sort()\n",
    "print(my_list)"
   ]
  },
  {
   "cell_type": "code",
   "execution_count": 22,
   "metadata": {
    "tags": []
   },
   "outputs": [
    {
     "output_type": "stream",
     "name": "stdout",
     "text": "[16, 12, 9, 8, 6, 4, 3, 2]\n"
    }
   ],
   "source": [
    "my_list=[2,4,8,16,3,6,9,12]\n",
    "my_list.sort(reverse=True)\n",
    "print(my_list)"
   ]
  },
  {
   "cell_type": "code",
   "execution_count": 24,
   "metadata": {
    "tags": []
   },
   "outputs": [
    {
     "output_type": "stream",
     "name": "stdout",
     "text": "[12, 9, 6, 3, 16, 8, 4, 2]\n"
    }
   ],
   "source": [
    "my_list=[2,4,8,16,3,6,9,12]\n",
    "my_list.reverse()\n",
    "print(my_list)"
   ]
  },
  {
   "cell_type": "code",
   "execution_count": 27,
   "metadata": {
    "tags": []
   },
   "outputs": [
    {
     "output_type": "stream",
     "name": "stdout",
     "text": "[16, 12, 9, 8, 6, 4, 3, 2]\n"
    }
   ],
   "source": [
    "my_list=[2,4,8,16,3,6,9,12]\n",
    "my_list.sort()\n",
    "my_list.reverse()\n",
    "print(my_list)"
   ]
  },
  {
   "cell_type": "code",
   "execution_count": 29,
   "metadata": {
    "tags": []
   },
   "outputs": [
    {
     "output_type": "stream",
     "name": "stdout",
     "text": "[2, 4, 8, 16, 3, 6, 9, 12]\n[2, 3, 4, 6, 8, 9, 12, 16]\n[16, 12, 9, 8, 6, 4, 3, 2]\n"
    }
   ],
   "source": [
    "my_list=[2,4,8,16,3,6,9,12]\n",
    "new_list=sorted(my_list)\n",
    "rev_list=sorted(my_list,reverse=True)\n",
    "print(my_list)\n",
    "print(new_list)\n",
    "print(rev_list)"
   ]
  },
  {
   "cell_type": "code",
   "execution_count": 31,
   "metadata": {
    "tags": []
   },
   "outputs": [
    {
     "output_type": "stream",
     "name": "stdout",
     "text": "['orange', 'apple', 'grape', 'banana']\n"
    }
   ],
   "source": [
    "my_list=[]\n",
    "my_list.append('orange')\n",
    "my_list.append('apple')\n",
    "my_list.append('grape')\n",
    "my_list.append('banana')\n",
    "print(my_list)"
   ]
  },
  {
   "cell_type": "code",
   "execution_count": 34,
   "metadata": {
    "tags": []
   },
   "outputs": [
    {
     "output_type": "stream",
     "name": "stdout",
     "text": "['apple', 'banana', 'grape', 'orange']\n"
    }
   ],
   "source": [
    "my_list=['orange','apple','grape','banana']\n",
    "my_list.sort()\n",
    "print(my_list)"
   ]
  },
  {
   "cell_type": "code",
   "execution_count": 36,
   "metadata": {
    "tags": []
   },
   "outputs": [
    {
     "output_type": "stream",
     "name": "stdout",
     "text": "['orange', 'grape', 'banana', 'apple']\n"
    }
   ],
   "source": [
    "my_list=['orange','apple','grape','banana']\n",
    "my_list.sort(reverse=True)\n",
    "print(my_list)"
   ]
  },
  {
   "cell_type": "code",
   "execution_count": 38,
   "metadata": {
    "tags": []
   },
   "outputs": [
    {
     "output_type": "stream",
     "name": "stdout",
     "text": "['abc', 100, ['xyz', -1]]\n"
    }
   ],
   "source": [
    "my_list=[]\n",
    "my_list.append('abc')\n",
    "my_list.append(100)\n",
    "my_list.append(['xyz',-1])\n",
    "print(my_list)"
   ]
  },
  {
   "cell_type": "code",
   "execution_count": 40,
   "metadata": {},
   "outputs": [
    {
     "output_type": "error",
     "ename": "TypeError",
     "evalue": "'<' not supported between instances of 'int' and 'str'",
     "traceback": [
      "\u001b[1;31m---------------------------------------------------------------------------\u001b[0m",
      "\u001b[1;31mTypeError\u001b[0m                                 Traceback (most recent call last)",
      "\u001b[1;32m<ipython-input-40-cbf3d7920d40>\u001b[0m in \u001b[0;36m<module>\u001b[1;34m\u001b[0m\n\u001b[1;32m----> 1\u001b[1;33m \u001b[0mmy_list\u001b[0m\u001b[1;33m.\u001b[0m\u001b[0msort\u001b[0m\u001b[1;33m(\u001b[0m\u001b[1;33m)\u001b[0m\u001b[1;33m\u001b[0m\u001b[1;33m\u001b[0m\u001b[0m\n\u001b[0m",
      "\u001b[1;31mTypeError\u001b[0m: '<' not supported between instances of 'int' and 'str'"
     ]
    }
   ],
   "source": [
    "my_list.sort()"
   ]
  }
 ]
}