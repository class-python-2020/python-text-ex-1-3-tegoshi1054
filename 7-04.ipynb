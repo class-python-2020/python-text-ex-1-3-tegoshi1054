{
 "metadata": {
  "language_info": {
   "codemirror_mode": {
    "name": "ipython",
    "version": 3
   },
   "file_extension": ".py",
   "mimetype": "text/x-python",
   "name": "python",
   "nbconvert_exporter": "python",
   "pygments_lexer": "ipython3",
   "version": "3.8.2-final"
  },
  "orig_nbformat": 2,
  "kernelspec": {
   "name": "python38232bit63e2fce86a434c428a352e1a00e6265a",
   "display_name": "Python 3.8.2 32-bit"
  }
 },
 "nbformat": 4,
 "nbformat_minor": 2,
 "cells": [
  {
   "cell_type": "code",
   "execution_count": 2,
   "metadata": {
    "tags": []
   },
   "outputs": [
    {
     "output_type": "stream",
     "name": "stdout",
     "text": "Try      ++++++++++++++++++++\nException ++++++++++++++++++++++\nTest_lise [0, 1, 2, 3, 4, 5, 6, 7, 8, 9, 10]\nFinally +++++++++++++++++++++\ntest_list [0, 1, 2, 3, 4, 5, 6, 7, 8, 9, 10]\nfinally: clear test_list somplete\ntest_list []\n"
    },
    {
     "output_type": "error",
     "ename": "NameError",
     "evalue": "name 'inst' is not defined",
     "traceback": [
      "\u001b[1;31m---------------------------------------------------------------------------\u001b[0m",
      "\u001b[1;31mException\u001b[0m                                 Traceback (most recent call last)",
      "\u001b[1;32m<ipython-input-2-76137baac7a3>\u001b[0m in \u001b[0;36mgenetate_intlist\u001b[1;34m(x)\u001b[0m\n\u001b[0;32m      7\u001b[0m             \u001b[1;32mif\u001b[0m \u001b[0mi\u001b[0m \u001b[1;33m==\u001b[0m \u001b[1;36m10\u001b[0m\u001b[1;33m:\u001b[0m\u001b[1;33m\u001b[0m\u001b[1;33m\u001b[0m\u001b[0m\n\u001b[1;32m----> 8\u001b[1;33m                 \u001b[1;32mraise\u001b[0m \u001b[0mException\u001b[0m\u001b[1;33m(\u001b[0m\u001b[1;33m)\u001b[0m\u001b[1;33m\u001b[0m\u001b[1;33m\u001b[0m\u001b[0m\n\u001b[0m\u001b[0;32m      9\u001b[0m         \u001b[0mprint\u001b[0m\u001b[1;33m(\u001b[0m\u001b[0mtest_list\u001b[0m\u001b[1;33m)\u001b[0m\u001b[1;33m\u001b[0m\u001b[1;33m\u001b[0m\u001b[0m\n",
      "\u001b[1;31mException\u001b[0m: ",
      "\nDuring handling of the above exception, another exception occurred:\n",
      "\u001b[1;31mNameError\u001b[0m                                 Traceback (most recent call last)",
      "\u001b[1;32m<ipython-input-2-76137baac7a3>\u001b[0m in \u001b[0;36m<module>\u001b[1;34m\u001b[0m\n\u001b[0;32m     22\u001b[0m \u001b[1;33m\u001b[0m\u001b[0m\n\u001b[0;32m     23\u001b[0m \u001b[0mtest_list\u001b[0m \u001b[1;33m=\u001b[0m \u001b[1;33m[\u001b[0m\u001b[1;33m]\u001b[0m\u001b[1;33m\u001b[0m\u001b[1;33m\u001b[0m\u001b[0m\n\u001b[1;32m---> 24\u001b[1;33m \u001b[0mgenetate_intlist\u001b[0m\u001b[1;33m(\u001b[0m\u001b[1;36m199\u001b[0m\u001b[1;33m)\u001b[0m\u001b[1;33m\u001b[0m\u001b[1;33m\u001b[0m\u001b[0m\n\u001b[0m",
      "\u001b[1;32m<ipython-input-2-76137baac7a3>\u001b[0m in \u001b[0;36mgenetate_intlist\u001b[1;34m(x)\u001b[0m\n\u001b[0;32m     11\u001b[0m         \u001b[0mprint\u001b[0m\u001b[1;33m(\u001b[0m\u001b[1;34m'Exception ++++++++++++++++++++++'\u001b[0m\u001b[1;33m)\u001b[0m\u001b[1;33m\u001b[0m\u001b[1;33m\u001b[0m\u001b[0m\n\u001b[0;32m     12\u001b[0m         \u001b[0mprint\u001b[0m\u001b[1;33m(\u001b[0m\u001b[1;34m'Test_lise'\u001b[0m\u001b[1;33m,\u001b[0m \u001b[0mtest_list\u001b[0m\u001b[1;33m)\u001b[0m\u001b[1;33m\u001b[0m\u001b[1;33m\u001b[0m\u001b[0m\n\u001b[1;32m---> 13\u001b[1;33m         \u001b[0mprint\u001b[0m\u001b[1;33m(\u001b[0m\u001b[0minst\u001b[0m\u001b[1;33m)\u001b[0m\u001b[1;33m\u001b[0m\u001b[1;33m\u001b[0m\u001b[0m\n\u001b[0m\u001b[0;32m     14\u001b[0m     \u001b[1;32melse\u001b[0m\u001b[1;33m:\u001b[0m\u001b[1;33m\u001b[0m\u001b[1;33m\u001b[0m\u001b[0m\n\u001b[0;32m     15\u001b[0m         \u001b[0mprint\u001b[0m\u001b[1;33m(\u001b[0m\u001b[1;34m'Normal Fin ++++++++++++++++++++'\u001b[0m\u001b[1;33m)\u001b[0m\u001b[1;33m\u001b[0m\u001b[1;33m\u001b[0m\u001b[0m\n",
      "\u001b[1;31mNameError\u001b[0m: name 'inst' is not defined"
     ]
    }
   ],
   "source": [
    "def genetate_intlist(x):\n",
    "    test_list = []\n",
    "    try:\n",
    "        print('Try      ++++++++++++++++++++')\n",
    "        for i in range(x):\n",
    "            test_list.append(i)\n",
    "            if i == 10:\n",
    "                raise Exception()\n",
    "        print(test_list)\n",
    "    except Exception as list:\n",
    "        print('Exception ++++++++++++++++++++++')\n",
    "        print('Test_lise', test_list)\n",
    "        print(inst)\n",
    "    else:\n",
    "        print('Normal Fin ++++++++++++++++++++')\n",
    "    finally:\n",
    "        print('Finally +++++++++++++++++++++')\n",
    "        print('test_list', test_list)\n",
    "        test_list.clear()\n",
    "        print('finally: clear test_list somplete')\n",
    "        print('test_list', test_list)\n",
    "\n",
    "test_list = []\n",
    "genetate_intlist(199)"
   ]
  },
  {
   "cell_type": "code",
   "execution_count": 18,
   "metadata": {},
   "outputs": [
    {
     "output_type": "error",
     "ename": "SyntaxError",
     "evalue": "invalid syntax (<ipython-input-18-1c72f1dae85a>, line 1)",
     "traceback": [
      "\u001b[1;36m  File \u001b[1;32m\"<ipython-input-18-1c72f1dae85a>\"\u001b[1;36m, line \u001b[1;32m1\u001b[0m\n\u001b[1;33m    f = open(\"test.txt\"):\u001b[0m\n\u001b[1;37m                        ^\u001b[0m\n\u001b[1;31mSyntaxError\u001b[0m\u001b[1;31m:\u001b[0m invalid syntax\n"
     ]
    }
   ],
   "source": [
    "f = open(\"test.txt\"):\n",
    "for text_line in f\n",
    "    print(text_line)"
   ]
  },
  {
   "cell_type": "code",
   "execution_count": 12,
   "metadata": {
    "tags": []
   },
   "outputs": [
    {
     "output_type": "stream",
     "name": "stdout",
     "text": "Hello"
    }
   ],
   "source": [
    "with open('test.txt') as f:\n",
    "    for line in f:\n",
    "        print(line, end=\"\")"
   ]
  },
  {
   "cell_type": "code",
   "execution_count": 20,
   "metadata": {},
   "outputs": [],
   "source": [
    "class Listinfo:\n",
    "    def __init__(self, my_list):\n",
    "        print('__init__')\n",
    "        self.my_list = my_list\n",
    "\n",
    "    def __enter__(self):\n",
    "        print('__enter__')\n",
    "        return self\n",
    "\n",
    "    def nth(self, n):\n",
    "        return self.my_list[n]\n",
    "\n",
    "    def __exit__(self, exc_type, exc_value, traceback):\n",
    "        print('__exit__')\n",
    "        self.my_list.clear()\n",
    "        print('     exc_type : ', exc_type)\n",
    "        print('     exc_value : ', exc_value)\n",
    "        print('     traceback : ', traceback)\n",
    "        return True"
   ]
  },
  {
   "cell_type": "code",
   "execution_count": 21,
   "metadata": {
    "tags": []
   },
   "outputs": [
    {
     "output_type": "stream",
     "name": "stdout",
     "text": "__init__\n__enter__\nnth_inf: a\n__exit__\n     exc_type :  None\n     exc_value :  None\n     traceback :  None\n[]\n"
    }
   ],
   "source": [
    "my_list = ['a', 'b', 'c', 'd', 'e']\n",
    "with Listinfo(my_list) as li:\n",
    "    print('nth_inf:', li.nth(0))\n",
    "print(my_list)"
   ]
  },
  {
   "cell_type": "code",
   "execution_count": 22,
   "metadata": {
    "tags": []
   },
   "outputs": [
    {
     "output_type": "stream",
     "name": "stdout",
     "text": "__init__\n__enter__\n__exit__\n     exc_type :  <class 'IndexError'>\n     exc_value :  list index out of range\n     traceback :  <traceback object at 0x062D2FC8>\n[]\n"
    }
   ],
   "source": [
    "my_list = ['a', 'b', 'c', 'd', 'e']\n",
    "with Listinfo(my_list) as li:\n",
    "    print('nth_inf', li.nth(10))\n",
    "print(my_list)"
   ]
  },
  {
   "cell_type": "code",
   "execution_count": 23,
   "metadata": {
    "tags": []
   },
   "outputs": [
    {
     "output_type": "stream",
     "name": "stdout",
     "text": "Hello out_test.txt"
    }
   ],
   "source": [
    "fname = 'out_test.txt'\n",
    "s = 'Hello out_test.txt'\n",
    "with open(fname, 'w') as f:\n",
    "    f.write(s)\n",
    "\n",
    "with open(fname, 'r') as f:\n",
    "    for line in f:\n",
    "        print(line, end=\"\")"
   ]
  },
  {
   "cell_type": "code",
   "execution_count": 24,
   "metadata": {
    "tags": []
   },
   "outputs": [
    {
     "output_type": "stream",
     "name": "stdout",
     "text": "try\nfinally\n"
    }
   ],
   "source": [
    "def test_function():\n",
    "    try:\n",
    "        print('try')\n",
    "        return \n",
    "    except:\n",
    "        print('except')\n",
    "    else:\n",
    "        print('else')\n",
    "    finally:\n",
    "        print('finally')\n",
    "\n",
    "test_function()"
   ]
  }
 ]
}