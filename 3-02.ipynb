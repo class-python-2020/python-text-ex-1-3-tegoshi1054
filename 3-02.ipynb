{
 "metadata": {
  "language_info": {
   "codemirror_mode": {
    "name": "ipython",
    "version": 3
   },
   "file_extension": ".py",
   "mimetype": "text/x-python",
   "name": "python",
   "nbconvert_exporter": "python",
   "pygments_lexer": "ipython3",
   "version": "3.8.2-final"
  },
  "orig_nbformat": 2,
  "kernelspec": {
   "name": "python38232bit63e2fce86a434c428a352e1a00e6265a",
   "display_name": "Python 3.8.2 32-bit"
  }
 },
 "nbformat": 4,
 "nbformat_minor": 2,
 "cells": [
  {
   "cell_type": "code",
   "execution_count": 2,
   "metadata": {
    "tags": []
   },
   "outputs": [
    {
     "output_type": "stream",
     "name": "stdout",
     "text": "fifteen\n"
    }
   ],
   "source": [
    "a = 30\n",
    "if a % 15 == 0:\n",
    "    print('fifteen')\n",
    "elif a % 3 ==0:\n",
    "    print('three')\n",
    "elif a % 5 ==0:\n",
    "    print('five')\n",
    "else:\n",
    "    pass"
   ]
  },
  {
   "cell_type": "code",
   "execution_count": 12,
   "metadata": {
    "tags": []
   },
   "outputs": [
    {
     "output_type": "stream",
     "name": "stdout",
     "text": "fifteen\n"
    }
   ],
   "source": [
    "if a % 15 ==0:\n",
    "    print('fifteen')\n",
    "elif a % 3 == 0:\n",
    "        print('three')\n",
    "elif a % 5 ==0:\n",
    "    print('five')"
   ]
  },
  {
   "cell_type": "code",
   "execution_count": null,
   "metadata": {},
   "outputs": [],
   "source": []
  }
 ]
}