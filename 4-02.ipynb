{
 "metadata": {
  "language_info": {
   "codemirror_mode": {
    "name": "ipython",
    "version": 3
   },
   "file_extension": ".py",
   "mimetype": "text/x-python",
   "name": "python",
   "nbconvert_exporter": "python",
   "pygments_lexer": "ipython3",
   "version": "3.8.2-final"
  },
  "orig_nbformat": 2,
  "kernelspec": {
   "name": "python38232bit63e2fce86a434c428a352e1a00e6265a",
   "display_name": "Python 3.8.2 32-bit"
  }
 },
 "nbformat": 4,
 "nbformat_minor": 2,
 "cells": [
  {
   "cell_type": "code",
   "execution_count": 5,
   "metadata": {},
   "outputs": [],
   "source": [
    "def house_for_rent(bedrooms, walk_min, house_type, rent_yen):\n",
    "    return{'bedrooms': bedrooms, 'walk_min': walk_min,\n",
    "    'house_type': house_type, 'rent_yen': rent_yen} "
   ]
  },
  {
   "cell_type": "code",
   "execution_count": 6,
   "metadata": {},
   "outputs": [
    {
     "output_type": "execute_result",
     "data": {
      "text/plain": "{'bedrooms': 2, 'walk_min': 15, 'house_type': 'アパート', 'rent_yen': 50}"
     },
     "metadata": {},
     "execution_count": 6
    }
   ],
   "source": [
    "house_for_rent(2, 15, 'アパート', 50)"
   ]
  },
  {
   "cell_type": "code",
   "execution_count": 7,
   "metadata": {},
   "outputs": [
    {
     "output_type": "execute_result",
     "data": {
      "text/plain": "{'bedrooms': 2, 'walk_min': 'マンション', 'house_type': 2, 'rent_yen': 100}"
     },
     "metadata": {},
     "execution_count": 7
    }
   ],
   "source": [
    "house_for_rent(2, 'マンション', 2 , 100)"
   ]
  },
  {
   "cell_type": "code",
   "execution_count": 9,
   "metadata": {},
   "outputs": [
    {
     "output_type": "execute_result",
     "data": {
      "text/plain": "{'bedrooms': 2, 'walk_min': 2, 'house_type': 'マンション', 'rent_yen': 100}"
     },
     "metadata": {},
     "execution_count": 9
    }
   ],
   "source": [
    "house_for_rent(rent_yen=100, walk_min=2, bedrooms=2, house_type='マンション')"
   ]
  },
  {
   "cell_type": "code",
   "execution_count": 38,
   "metadata": {},
   "outputs": [
    {
     "output_type": "execute_result",
     "data": {
      "text/plain": "{'bedrooms': 2, 'walk_min': 6, 'house_type': 'アパート', 'rent_yen': 50}"
     },
     "metadata": {},
     "execution_count": 38
    }
   ],
   "source": [
    "house_for_rent()"
   ]
  },
  {
   "cell_type": "code",
   "execution_count": 35,
   "metadata": {},
   "outputs": [],
   "source": [
    "def house_for_rent(bedrooms=2,walk_min=6, house_type='アパート',rent_yen=50):\n",
    "    return {'bedrooms': bedrooms, 'walk_min': walk_min, 'house_type': house_type, 'rent_yen': rent_yen}"
   ]
  },
  {
   "cell_type": "code",
   "execution_count": 36,
   "metadata": {},
   "outputs": [
    {
     "output_type": "execute_result",
     "data": {
      "text/plain": "{'bedrooms': 2, 'walk_min': 6, 'house_type': 'アパート', 'rent_yen': 50}"
     },
     "metadata": {},
     "execution_count": 36
    }
   ],
   "source": [
    "house_for_rent()"
   ]
  },
  {
   "cell_type": "code",
   "execution_count": 37,
   "metadata": {},
   "outputs": [
    {
     "output_type": "execute_result",
     "data": {
      "text/plain": "{'bedrooms': 5, 'walk_min': 6, 'house_type': 'マンション', 'rent_yen': 50}"
     },
     "metadata": {},
     "execution_count": 37
    }
   ],
   "source": [
    "house_for_rent(5, house_type='マンション')"
   ]
  },
  {
   "cell_type": "code",
   "execution_count": 40,
   "metadata": {},
   "outputs": [
    {
     "output_type": "error",
     "ename": "SyntaxError",
     "evalue": "EOL while scanning string literal (<ipython-input-40-2d7bfca8209c>, line 1)",
     "traceback": [
      "\u001b[1;36m  File \u001b[1;32m\"<ipython-input-40-2d7bfca8209c>\"\u001b[1;36m, line \u001b[1;32m1\u001b[0m\n\u001b[1;33m    house_for_rent(house_type'マンション),5\u001b[0m\n\u001b[1;37m                                      ^\u001b[0m\n\u001b[1;31mSyntaxError\u001b[0m\u001b[1;31m:\u001b[0m EOL while scanning string literal\n"
     ]
    }
   ],
   "source": [
    "house_for_rent(house_type'マンション),5"
   ]
  },
  {
   "cell_type": "code",
   "execution_count": 47,
   "metadata": {},
   "outputs": [],
   "source": [
    "def number_to_day(num=0):\n",
    "    '''任意の整数が与えられたら今日、昨日、明日、それ以外を判定して返す\n",
    "\n",
    "    戻り値\n",
    "    　昨日(numが-1の場合)\n",
    "    　今日(numが0の場合)\n",
    "    　明日(numが1の場合)\n",
    "    　今日より1日を超えて離れた日(numが上記以外の場合)\n",
    "    '''\n",
    "    if  num ==0:\n",
    "        day = '今日'\n",
    "    elif num ==1:\n",
    "        day ='明日'\n",
    "    elif num ==-1:\n",
    "        day ='昨日'\n",
    "    else:\n",
    "        day ='今日よりも１日を超えて離れた日'\n",
    "    return day"
   ]
  },
  {
   "cell_type": "code",
   "execution_count": 43,
   "metadata": {},
   "outputs": [
    {
     "output_type": "execute_result",
     "data": {
      "text/plain": "'今日'"
     },
     "metadata": {},
     "execution_count": 43
    }
   ],
   "source": [
    "number_to_day()"
   ]
  },
  {
   "cell_type": "code",
   "execution_count": 44,
   "metadata": {},
   "outputs": [
    {
     "output_type": "execute_result",
     "data": {
      "text/plain": "'明日'"
     },
     "metadata": {},
     "execution_count": 44
    }
   ],
   "source": [
    "number_to_day(1)"
   ]
  },
  {
   "cell_type": "code",
   "execution_count": 45,
   "metadata": {},
   "outputs": [
    {
     "output_type": "execute_result",
     "data": {
      "text/plain": "'今日よりも１日を超えて離れた日'"
     },
     "metadata": {},
     "execution_count": 45
    }
   ],
   "source": [
    "number_to_day(num=3)"
   ]
  },
  {
   "cell_type": "code",
   "execution_count": 48,
   "metadata": {
    "tags": []
   },
   "outputs": [
    {
     "output_type": "stream",
     "name": "stdout",
     "text": "Help on function number_to_day in module __main__:\n\nnumber_to_day(num=0)\n    任意の整数が与えられたら今日、昨日、明日、それ以外を判定して返す\n    \n    戻り値\n    　昨日(numが-1の場合)\n    　今日(numが0の場合)\n    　明日(numが1の場合)\n    　今日より1日を超えて離れた日(numが上記以外の場合)\n\n"
    }
   ],
   "source": [
    "help(number_to_day)"
   ]
  },
  {
   "cell_type": "code",
   "execution_count": 52,
   "metadata": {},
   "outputs": [],
   "source": [
    "def perrin(m=100):\n",
    "    '''mより小さなペラン数列をリストで返す\n",
    "\n",
    "    ペラン数列:3,0,2,3,2,5,5,7,10,12,17,22,29,39,\n",
    "    '''\n",
    "    a,b,c, =3,0,2\n",
    "    result = []\n",
    "    while a<m:\n",
    "        result.append(a)\n",
    "        a,b,c, = b,c,a+b\n",
    "    return result"
   ]
  },
  {
   "cell_type": "code",
   "execution_count": 53,
   "metadata": {},
   "outputs": [
    {
     "output_type": "execute_result",
     "data": {
      "text/plain": "[3, 0, 2, 3, 2, 5, 5, 7, 10, 12, 17, 22, 29, 39, 51, 68, 90]"
     },
     "metadata": {},
     "execution_count": 53
    }
   ],
   "source": [
    "perrin()"
   ]
  },
  {
   "cell_type": "code",
   "execution_count": 55,
   "metadata": {
    "tags": []
   },
   "outputs": [
    {
     "output_type": "stream",
     "name": "stdout",
     "text": "(0, 1) (2, 2) (3, 3) (2, 4) (5, 5) (5, 6) (7, 7) (10, 8) (12, 9) (17, 10) (22, 11) (29, 12) (39, 13) (51, 14) (68, 15) (90, 16) (119, 17) (158, 18) (209, 19) (277, 20) (367, 21) (486, 22) (644, 23) (853, 24) (1130, 25) (1497, 26) (1983, 27) (2627, 28) (3480, 29) (4610, 30) (6107, 31) (8090, 32)"
    },
    {
     "output_type": "execute_result",
     "data": {
      "text/plain": "[1, 2, 3, 5, 7, 11, 13, 17, 19, 23, 29, 31]"
     },
     "metadata": {},
     "execution_count": 55
    }
   ],
   "source": [
    "p_list = perrin(10000)\n",
    "x_list = list()\n",
    "for n,p in enumerate(p_list):\n",
    "    if n == 0:\n",
    "        continue\n",
    "    print((p,n), end=\" \")\n",
    "    if p % n ==0:\n",
    "        x_list.append(n)\n",
    "\n",
    "x_list"
   ]
  },
  {
   "cell_type": "code",
   "execution_count": null,
   "metadata": {},
   "outputs": [],
   "source": []
  }
 ]
}